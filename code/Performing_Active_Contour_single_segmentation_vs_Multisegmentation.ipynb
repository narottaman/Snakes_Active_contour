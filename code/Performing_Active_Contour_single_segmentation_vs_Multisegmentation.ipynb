{
  "nbformat": 4,
  "nbformat_minor": 0,
  "metadata": {
    "colab": {
      "provenance": []
    },
    "kernelspec": {
      "name": "python3",
      "display_name": "Python 3"
    },
    "language_info": {
      "name": "python"
    }
  },
  "cells": [
    {
      "cell_type": "code",
      "execution_count": null,
      "metadata": {
        "colab": {
          "base_uri": "https://localhost:8080/"
        },
        "id": "prswDzLqZBhR",
        "outputId": "1d4a15da-fcbe-4efb-9505-a333b3f2d5b2"
      },
      "outputs": [
        {
          "output_type": "stream",
          "name": "stdout",
          "text": [
            "2\n"
          ]
        }
      ],
      "source": [
        "import numpy as np\n",
        "import matplotlib.pyplot as plt\n",
        "from skimage.color import rgb2gray\n",
        "from skimage import data\n",
        "from skimage.filters import gaussian\n",
        "from skimage.segmentation import active_contour\n",
        "import cv2\n",
        "from PIL import Image\n",
        "from pylab import*\n",
        "\n",
        "Image = cv2.imread('cccc.jpg',1)\n",
        "image = cv2.cvtColor(Image,cv2.COLOR_BGR2GRAY)\n",
        "img=np.array(image,dtype=np.float64)\n",
        "\n",
        "s = np.linspace(0, 2 * np.pi, 100)\n",
        "r = 90 + 70 * np.sin(s)\n",
        "c = 100 + 70 * np.cos(s)\n",
        "init = np.array([r, c]).T\n",
        "\n",
        "snake = active_contour(\n",
        "    gaussian(img, sigma=3, preserve_range=False),\n",
        "    init,\n",
        "    alpha=0.000015,\n",
        "    beta=10,\n",
        "    gamma=0.001,\n",
        ")\n",
        "\n",
        "fig, ax = plt.subplots(figsize=(7, 7))\n",
        "ax.imshow(img, cmap=plt.cm.gray)\n",
        "ax.plot(init[:, 1], init[:, 0], '--r', lw=3)\n",
        "ax.plot(snake[:, 1], snake[:, 0], '-b', lw=3)\n",
        "ax.set_xticks([]), ax.set_yticks([])\n",
        "ax.axis([0, img.shape[1], img.shape[0], 0])\n",
        "\n",
        "plt.show()\n",
        "\n",
        "\n",
        "img = cv2.imread('cccc.jpg', 1)\n",
        "img = cv2.cvtColor(img, cv2.COLOR_BGR2GRAY)\n",
        "img=np.array(img,dtype=np.float64)\n",
        "\n",
        "\n",
        "smoothed_image = gaussian(img, sigma=3, preserve_range=False)\n",
        "\n",
        "s1 = np.linspace(0, 2 * np.pi, 100)\n",
        "\n",
        "r1 = 100 + 70 * np.sin(s1)\n",
        "c1 = 100 + 70 * np.cos(s1)\n",
        "init1 = np.array([r1, c1]).T\n",
        "\n",
        "\n",
        "s2 = np.linspace(0, 2 * np.pi, 40)\n",
        "\n",
        "r2 = 90 + 30 * np.sin(s2)\n",
        "c2 = 240 + 30 * np.cos(s2)\n",
        "init2 = np.array([r2, c2]).T\n",
        "\n",
        "snake1 = active_contour(smoothed_image, init1, alpha=0.015, beta=10, gamma=0.001)\n",
        "\n",
        "snake2 = active_contour(smoothed_image, init2, alpha=0.015, beta=5, gamma=0.001)\n",
        "\n",
        "fig, ax = plt.subplots(figsize=(7, 7))\n",
        "ax.imshow(img, cmap=plt.cm.gray)\n",
        "\n",
        "ax.plot(init1[:, 1], init1[:, 0], '--r', lw=3, label=\"Initial Contour 1\")\n",
        "ax.plot(snake1[:, 1], snake1[:, 0], '-b', lw=3, label=\"Final Contour 1\")\n",
        "\n",
        "ax.plot(init2[:, 1], init2[:, 0], '--g', lw=3, label=\"Initial Contour 2\")\n",
        "ax.plot(snake2[:, 1], snake2[:, 0], '-y', lw=3, label=\"Final Contour 2\")\n",
        "\n",
        "ax.set_xticks([]), ax.set_yticks([])\n",
        "ax.axis([0, img.shape[1], img.shape[0], 0])\n",
        "\n",
        "plt.legend()\n",
        "plt.show()\n"
      ]
    }
  ]
}