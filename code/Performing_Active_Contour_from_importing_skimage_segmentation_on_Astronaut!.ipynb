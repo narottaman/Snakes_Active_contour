{
  "nbformat": 4,
  "nbformat_minor": 0,
  "metadata": {
    "colab": {
      "provenance": []
    },
    "kernelspec": {
      "name": "python3",
      "display_name": "Python 3"
    },
    "language_info": {
      "name": "python"
    }
  },
  "cells": [
    {
      "cell_type": "code",
      "execution_count": null,
      "metadata": {
        "colab": {
          "base_uri": "https://localhost:8080/"
        },
        "id": "prswDzLqZBhR",
        "outputId": "1d4a15da-fcbe-4efb-9505-a333b3f2d5b2"
      },
      "outputs": [
        {
          "output_type": "stream",
          "name": "stdout",
          "text": [
            "2\n"
          ]
        }
      ],
      "source": [
        "import numpy as np\n",
        "import matplotlib.pyplot as plt\n",
        "from skimage import data, color\n",
        "from skimage.filters import gaussian\n",
        "from skimage.segmentation import active_contour\n",
        "from skimage.color import rgb2gray\n",
        "from skimage import data\n",
        "\n",
        "\n",
        "# Load an image (you can replace this with your own image)\n",
        "image = data.astronaut()\n",
        "image_gray = color.rgb2gray(image)\n",
        "\n",
        "\n",
        "# Plot original image and edge image\n",
        "fig, ax = plt.subplots(1, 2, figsize=(10, 5))\n",
        "ax[0].imshow(image, cmap='gray')\n",
        "ax[0].set_title('Original Image')\n",
        "ax[1].imshow(image_gray, cmap='gray')\n",
        "ax[1].set_title('Gray Image')\n",
        "plt.show()\n",
        "\n",
        "\n",
        "\n",
        "\n",
        "\n",
        "img = data.astronaut()\n",
        "img = rgb2gray(img)\n",
        "# Set up an initial contour (a circle, in this case)\n",
        "s = np.linspace(0, 2 * np.pi, 400)\n",
        "r = 100 + 100 * np.sin(s)\n",
        "c = 220 + 100 * np.cos(s)\n",
        "init = np.array([r, c]).T\n",
        "\n",
        "snake = active_contour(\n",
        "    gaussian(img, sigma=3, preserve_range=False),\n",
        "    init,\n",
        "    alpha=0.015,\n",
        "    beta=10,\n",
        "    gamma=0.001,\n",
        ")\n",
        "\n",
        "fig, ax = plt.subplots(figsize=(7, 7))\n",
        "ax.imshow(img, cmap=plt.cm.gray)\n",
        "ax.plot(init[:, 1], init[:, 0], '--r', lw=3)\n",
        "ax.plot(snake[:, 1], snake[:, 0], '-b', lw=3)\n",
        "ax.set_xticks([]), ax.set_yticks([])\n",
        "ax.axis([0, img.shape[1], img.shape[0], 0])\n",
        "\n",
        "plt.show()"
      ]
    }
  ]
}