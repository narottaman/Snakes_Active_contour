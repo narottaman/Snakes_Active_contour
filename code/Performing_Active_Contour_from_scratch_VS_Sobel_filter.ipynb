{
  "nbformat": 4,
  "nbformat_minor": 0,
  "metadata": {
    "colab": {
      "provenance": []
    },
    "kernelspec": {
      "name": "python3",
      "display_name": "Python 3"
    },
    "language_info": {
      "name": "python"
    }
  },
  "cells": [
    {
      "cell_type": "code",
      "execution_count": null,
      "metadata": {
        "colab": {
          "base_uri": "https://localhost:8080/"
        },
        "id": "prswDzLqZBhR",
        "outputId": "1d4a15da-fcbe-4efb-9505-a333b3f2d5b2"
      },
      "outputs": [
        {
          "output_type": "stream",
          "name": "stdout",
          "text": [
            "2\n"
          ]
        }
      ],
      "source": [
        "import numpy as np\n",
        "import matplotlib.pyplot as plt\n",
        "from scipy.ndimage import gaussian_filter\n",
        "from skimage import data, color, img_as_float\n",
        "from skimage.filters import sobel\n",
        "from scipy.interpolate import splprep, splev\n",
        "from PIL import Image\n",
        "\n",
        "\n",
        "\n",
        "# Load an image (can be any image, here using skimage's built-in data)\n",
        "image = img_as_float(data.coins())\n",
        "print(image.ndim)\n",
        "\n",
        "\n",
        "# Apply Gaussian filter to smooth the image\n",
        "smoothed_image = gaussian_filter(image, sigma=2)\n",
        "\n",
        "plt.figure(figsize=(6, 6))\n",
        "plt.imshow(image, cmap='gray')\n",
        "\n",
        "# Compute edges using a Sobel filter (can use any gradient filter)\n",
        "edges = sobel(smoothed_image)\n",
        "\n",
        "# Plot original image and edge image\n",
        "fig, ax = plt.subplots(1, 2, figsize=(10, 5))\n",
        "ax[0].imshow(image, cmap='gray')\n",
        "ax[0].set_title('Original Image')\n",
        "ax[1].imshow(edges, cmap='gray')\n",
        "ax[1].set_title('Edge Image')\n",
        "plt.show()\n",
        "# Define initial snake contour as a circular or any arbitrary shape\n",
        "t = np.linspace(0, 2*np.pi, 400)\n",
        "x = 100 + 50*np.cos(t)  # X-coordinates of the snake\n",
        "y = 150 + 50*np.sin(t)  # Y-coordinates of the snake\n",
        "\n",
        "snake = np.array([x, y]).T\n",
        "\n",
        "# Plot initial snake\n",
        "plt.imshow(image, cmap='gray')\n",
        "plt.plot(snake[:, 0], snake[:, 1], 'r-', lw=3)  # Plot the initial contour\n",
        "plt.title(\"Initial Snake\")\n",
        "plt.show()\n",
        "def evolve_snake(snake, alpha, beta, gamma, iterations, edge_map):\n",
        "    for _ in range(iterations):\n",
        "        # Compute internal forces (second derivative for smoothness)\n",
        "        a = np.roll(snake, -1, axis=0)  # Next point\n",
        "        b = np.roll(snake, 1, axis=0)   # Previous point\n",
        "        internal_force = alpha * (b - 2*snake + a)\n",
        "\n",
        "        # Compute external forces (based on image edges)\n",
        "        fx = np.gradient(edge_map, axis=1)\n",
        "        fy = np.gradient(edge_map, axis=0)\n",
        "\n",
        "        external_force = np.array([fx[snake[:, 1].astype(int), snake[:, 0].astype(int)],\n",
        "                                   fy[snake[:, 1].astype(int), snake[:, 0].astype(int)]]).T\n",
        "\n",
        "        # Update snake position using a combination of forces\n",
        "        snake += gamma * internal_force + beta * external_force\n",
        "\n",
        "        # Apply spline smoothing to keep snake smooth\n",
        "        tck, u = splprep([snake[:, 0], snake[:, 1]], s=2.0)\n",
        "        snake = np.array(splev(u, tck)).T\n",
        "\n",
        "    return snake\n",
        "\n",
        "# Set parameters for snake evolution\n",
        "alpha = 0.1  # Smoothness weight\n",
        "beta = 1.0   # External (edge attraction) weight\n",
        "gamma = 0.1  # Step size for evolution\n",
        "iterations = 250\n",
        "\n",
        "# Evolve the snake\n",
        "final_snake = evolve_snake(snake, alpha, beta, gamma, iterations, edges)\n",
        "\n",
        "# Plot the final snake\n",
        "plt.imshow(image, cmap='gray')\n",
        "plt.plot(final_snake[:, 0], final_snake[:, 1], 'r-', lw=3)  # Plot the evolved contour\n",
        "plt.title(\"Final Snake\")\n",
        "plt.show()\n"
      ]
    },
    {
      "cell_type": "code",
      "source": [],
      "metadata": {
        "id": "JaAMlsX9ZDOt"
      },
      "execution_count": null,
      "outputs": []
    }
  ]
}