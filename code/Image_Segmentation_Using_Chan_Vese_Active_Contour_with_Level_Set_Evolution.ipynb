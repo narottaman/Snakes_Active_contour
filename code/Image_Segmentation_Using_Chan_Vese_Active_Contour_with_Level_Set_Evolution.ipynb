{
  "nbformat": 4,
  "nbformat_minor": 0,
  "metadata": {
    "colab": {
      "provenance": []
    },
    "kernelspec": {
      "name": "python3",
      "display_name": "Python 3"
    },
    "language_info": {
      "name": "python"
    }
  },
  "cells": [
    {
      "cell_type": "code",
      "execution_count": null,
      "metadata": {
        "colab": {
          "base_uri": "https://localhost:8080/"
        },
        "id": "prswDzLqZBhR",
        "outputId": "1d4a15da-fcbe-4efb-9505-a333b3f2d5b2"
      },
      "outputs": [
        {
          "output_type": "stream",
          "name": "stdout",
          "text": [
            "2\n"
          ]
        }
      ],
      "source": [
        "#coding:utf-8\n",
        "import sys\n",
        "import numpy as np\n",
        "import cv2\n",
        "import matplotlib.pyplot as plt\n",
        "import math\n",
        "from pylab import*\n",
        "\n",
        "Image = cv2.imread('../input/skin-cancer/cccc.jpg',1)\n",
        "image = cv2.cvtColor(Image,cv2.COLOR_BGR2GRAY)\n",
        "img=np.array(image,dtype=np.float64)\n",
        "\n",
        "\n",
        "IniLSF = np.ones((img.shape[0],img.shape[1]),img.dtype)\n",
        "IniLSF[30:80,30:80]= -1\n",
        "IniLSF=-IniLSF\n",
        "\n",
        "\n",
        "Image = cv2.cvtColor(Image,cv2.COLOR_BGR2RGB)\n",
        "plt.figure(1),plt.imshow(Image),plt.xticks([]), plt.yticks([])   # to hide tick values on X and Y axis\n",
        "plt.contour(IniLSF,[0],color = 'b',linewidth=2)\n",
        "plt.draw(),plt.show(block=False)\n",
        "\n",
        "def mat_math (intput,str):\n",
        "    output=intput\n",
        "    for i in range(img.shape[0]):\n",
        "        for j in range(img.shape[1]):\n",
        "            if str==\"atan\":\n",
        "                output[i,j] = math.atan(intput[i,j])\n",
        "            if str==\"sqrt\":\n",
        "                output[i,j] = math.sqrt(intput[i,j])\n",
        "    return output\n",
        "\n",
        "\n",
        "def CV (LSF, img, mu, nu, epison,step):\n",
        "\n",
        "    Drc = (epison / math.pi) / (epison*epison+ LSF*LSF)\n",
        "    Hea = 0.5*(1 + (2 / math.pi)*mat_math(LSF/epison,\"atan\"))\n",
        "    Iy, Ix = np.gradient(LSF)\n",
        "    s = mat_math(Ix*Ix+Iy*Iy,\"sqrt\")\n",
        "    Nx = Ix / (s+0.000001)\n",
        "    Ny = Iy / (s+0.000001)\n",
        "    Mxx,Nxx =np.gradient(Nx)\n",
        "    Nyy,Myy =np.gradient(Ny)\n",
        "    cur = Nxx + Nyy\n",
        "    Length = nu*Drc*cur\n",
        "\n",
        "    Lap = cv2.Laplacian(LSF,-1)\n",
        "    Penalty = mu*(Lap - cur)\n",
        "\n",
        "    s1=Hea*img\n",
        "    s2=(1-Hea)*img\n",
        "    s3=1-Hea\n",
        "    C1 = s1.sum()/ Hea.sum()\n",
        "    C2 = s2.sum()/ s3.sum()\n",
        "    CVterm = Drc*(-1 * (img - C1)*(img - C1) + 1 * (img - C2)*(img - C2))\n",
        "\n",
        "    LSF = LSF + step*(Length + Penalty + CVterm)\n",
        "    #plt.imshow(s, cmap ='gray'),plt.show()\n",
        "    return LSF\n",
        "\n",
        "\n",
        "mu = 1\n",
        "nu = 0.003 * 255 * 255\n",
        "num = 20\n",
        "epison = 1\n",
        "step = 0.1\n",
        "LSF=IniLSF\n",
        "for i in range(1,num):\n",
        "    LSF = CV(LSF, img, mu, nu, epison,step)\n",
        "    if i % 1 == 0:\n",
        "        plt.imshow(Image),plt.xticks([]), plt.yticks([])\n",
        "        plt.contour(LSF,[0],colors='r',linewidth=2)\n",
        "        plt.draw(),plt.show(block=False),plt.pause(0.01)"
      ]
    }
  ]
}